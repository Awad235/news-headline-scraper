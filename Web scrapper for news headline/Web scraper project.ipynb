{
 "cells": [
  {
   "cell_type": "code",
   "execution_count": 1,
   "id": "cf3ec805",
   "metadata": {},
   "outputs": [
    {
     "name": "stdout",
     "output_type": "stream",
     "text": [
      "Scraped 63 headlines. Saved to headlines.txt\n"
     ]
    }
   ],
   "source": [
    "import requests\n",
    "from bs4 import BeautifulSoup\n",
    "\n",
    "# Step 1: Fetch HTML from a news website\n",
    "url = \"https://www.bbc.com/news\"\n",
    "response = requests.get(url)\n",
    "response.raise_for_status()  # will raise error if request fails\n",
    "\n",
    "# Step 2: Parse HTML with BeautifulSoup\n",
    "soup = BeautifulSoup(response.text, \"html.parser\")\n",
    "\n",
    "# Step 3: Extract headlines (BBC often uses h3 for headlines)\n",
    "headlines = []\n",
    "for h in soup.find_all(['h1', 'h2', 'h3']):\n",
    "    text = h.get_text(strip=True)\n",
    "    if text and len(text) > 5:  # avoid very short strings\n",
    "        headlines.append(text)\n",
    "\n",
    "# Step 4: Save headlines to a .txt file\n",
    "with open(\"headlines.txt\", \"w\", encoding=\"utf-8\") as f:\n",
    "    for line in headlines:\n",
    "        f.write(line + \"\\n\")\n",
    "\n",
    "print(f\"Scraped {len(headlines)} headlines. Saved to headlines.txt\")\n"
   ]
  }
 ],
 "metadata": {
  "kernelspec": {
   "display_name": "Python 3",
   "language": "python",
   "name": "python3"
  },
  "language_info": {
   "codemirror_mode": {
    "name": "ipython",
    "version": 3
   },
   "file_extension": ".py",
   "mimetype": "text/x-python",
   "name": "python",
   "nbconvert_exporter": "python",
   "pygments_lexer": "ipython3",
   "version": "3.11.9"
  }
 },
 "nbformat": 4,
 "nbformat_minor": 5
}
